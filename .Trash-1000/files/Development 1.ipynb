{
 "cells": [
  {
   "cell_type": "markdown",
   "id": "50936be5-969f-41cd-b9f4-1ea636642009",
   "metadata": {},
   "source": [
    "# Setup"
   ]
  },
  {
   "cell_type": "code",
   "execution_count": 1,
   "id": "071918e7-d672-456c-bc25-0958e499f836",
   "metadata": {},
   "outputs": [],
   "source": [
    "import os\n",
    "import pandas as pd\n",
    "\n",
    "from pprint import pprint\n",
    "\n",
    "from docx import Document\n",
    "\n",
    "from sklearn.metrics import accuracy_score\n",
    "\n",
    "from skllm import MultiLabelZeroShotGPTClassifier\n",
    "from skllm.config import SKLLMConfig"
   ]
  },
  {
   "cell_type": "code",
   "execution_count": 2,
   "id": "00c27fb1-a5f1-428c-95f0-14c1b62abf53",
   "metadata": {},
   "outputs": [],
   "source": [
    "#See notes in INSTALL.md for how to set this, DO NOT HARD CODE YOUR API KEY HERE, \n",
    "# if your repository is public, then someone will steal your API key and make you pay for their shit \n",
    "SKLLMConfig.set_openai_key(os.environ.get('OPENAI_API_KEY'))"
   ]
  },
  {
   "cell_type": "markdown",
   "id": "c5129b91-8cbc-4359-bf2a-dc8d5e00f6ed",
   "metadata": {},
   "source": [
    "# Collect a Dataset"
   ]
  },
  {
   "cell_type": "code",
   "execution_count": 3,
   "id": "78ced7e9-9901-4855-980a-c3713933b193",
   "metadata": {},
   "outputs": [],
   "source": [
    "# Set the folder path where your Word documents are located\n",
    "folder_path = 'data'\n",
    "\n",
    "X = []\n",
    "\n",
    "# Loop over each file in the folder\n",
    "for filename in os.listdir(folder_path):\n",
    "    if filename.endswith('.docx'):\n",
    "        # Construct the full file path\n",
    "        file_path = os.path.join(folder_path, filename)\n",
    "        \n",
    "        # Open the Word document\n",
    "        doc = Document(file_path)\n",
    "        \n",
    "        # Loop over each paragraph in the document and print its text\n",
    "        filetext=\"\"\n",
    "        for para in doc.paragraphs:\n",
    "            filetext+=para.text\n",
    "        X.append(filetext)\n",
    "\n",
    "data = pd.DataFrame(X, columns=['WritingSample'])\n",
    "\n"
   ]
  },
  {
   "cell_type": "markdown",
   "id": "923dc7af-b409-44b7-a1f1-cae37154cf81",
   "metadata": {},
   "source": [
    "# Understand Your Data"
   ]
  },
  {
   "cell_type": "code",
   "execution_count": 4,
   "id": "bae5d63e-1a2b-4173-8831-330451b7c5c5",
   "metadata": {},
   "outputs": [
    {
     "data": {
      "text/html": [
       "<div>\n",
       "<style scoped>\n",
       "    .dataframe tbody tr th:only-of-type {\n",
       "        vertical-align: middle;\n",
       "    }\n",
       "\n",
       "    .dataframe tbody tr th {\n",
       "        vertical-align: top;\n",
       "    }\n",
       "\n",
       "    .dataframe thead th {\n",
       "        text-align: right;\n",
       "    }\n",
       "</style>\n",
       "<table border=\"1\" class=\"dataframe\">\n",
       "  <thead>\n",
       "    <tr style=\"text-align: right;\">\n",
       "      <th></th>\n",
       "      <th>WritingSample</th>\n",
       "    </tr>\n",
       "  </thead>\n",
       "  <tbody>\n",
       "    <tr>\n",
       "      <th>0</th>\n",
       "      <td>Every year, about 1.35 million people are kill...</td>\n",
       "    </tr>\n",
       "    <tr>\n",
       "      <th>1</th>\n",
       "      <td>In a world driven by technology, some recent a...</td>\n",
       "    </tr>\n",
       "    <tr>\n",
       "      <th>2</th>\n",
       "      <td>The modern world is changing at a concerningly...</td>\n",
       "    </tr>\n",
       "    <tr>\n",
       "      <th>3</th>\n",
       "      <td>Technology in today's world continues to take ...</td>\n",
       "    </tr>\n",
       "    <tr>\n",
       "      <th>4</th>\n",
       "      <td>Technological improvements are occurring world...</td>\n",
       "    </tr>\n",
       "  </tbody>\n",
       "</table>\n",
       "</div>"
      ],
      "text/plain": [
       "                                       WritingSample\n",
       "0  Every year, about 1.35 million people are kill...\n",
       "1  In a world driven by technology, some recent a...\n",
       "2  The modern world is changing at a concerningly...\n",
       "3  Technology in today's world continues to take ...\n",
       "4  Technological improvements are occurring world..."
      ]
     },
     "execution_count": 4,
     "metadata": {},
     "output_type": "execute_result"
    }
   ],
   "source": [
    "data.head()"
   ]
  },
  {
   "cell_type": "code",
   "execution_count": 5,
   "id": "6bea9e4e-af8a-40ee-9a12-5b9dc3d73fc0",
   "metadata": {},
   "outputs": [
    {
     "data": {
      "text/html": [
       "<div>\n",
       "<style scoped>\n",
       "    .dataframe tbody tr th:only-of-type {\n",
       "        vertical-align: middle;\n",
       "    }\n",
       "\n",
       "    .dataframe tbody tr th {\n",
       "        vertical-align: top;\n",
       "    }\n",
       "\n",
       "    .dataframe thead th {\n",
       "        text-align: right;\n",
       "    }\n",
       "</style>\n",
       "<table border=\"1\" class=\"dataframe\">\n",
       "  <thead>\n",
       "    <tr style=\"text-align: right;\">\n",
       "      <th></th>\n",
       "      <th>WritingSample</th>\n",
       "    </tr>\n",
       "  </thead>\n",
       "  <tbody>\n",
       "    <tr>\n",
       "      <th>count</th>\n",
       "      <td>5</td>\n",
       "    </tr>\n",
       "    <tr>\n",
       "      <th>unique</th>\n",
       "      <td>5</td>\n",
       "    </tr>\n",
       "    <tr>\n",
       "      <th>top</th>\n",
       "      <td>Every year, about 1.35 million people are kill...</td>\n",
       "    </tr>\n",
       "    <tr>\n",
       "      <th>freq</th>\n",
       "      <td>1</td>\n",
       "    </tr>\n",
       "  </tbody>\n",
       "</table>\n",
       "</div>"
      ],
      "text/plain": [
       "                                            WritingSample\n",
       "count                                                   5\n",
       "unique                                                  5\n",
       "top     Every year, about 1.35 million people are kill...\n",
       "freq                                                    1"
      ]
     },
     "execution_count": 5,
     "metadata": {},
     "output_type": "execute_result"
    }
   ],
   "source": [
    "data.describe()"
   ]
  },
  {
   "cell_type": "code",
   "execution_count": 6,
   "id": "2aa94aca-fb96-4217-9a8e-456bb8ea7a91",
   "metadata": {},
   "outputs": [],
   "source": [
    "X = data[\"WritingSample\"]"
   ]
  },
  {
   "cell_type": "code",
   "execution_count": 7,
   "id": "08e76d2a-b14e-472e-a759-6f97bd38a19a",
   "metadata": {
    "scrolled": true
   },
   "outputs": [
    {
     "data": {
      "text/plain": [
       "0    Every year, about 1.35 million people are kill...\n",
       "1    In a world driven by technology, some recent a...\n",
       "2    The modern world is changing at a concerningly...\n",
       "3    Technology in today's world continues to take ...\n",
       "4    Technological improvements are occurring world...\n",
       "Name: WritingSample, dtype: object"
      ]
     },
     "execution_count": 7,
     "metadata": {},
     "output_type": "execute_result"
    }
   ],
   "source": [
    "X"
   ]
  },
  {
   "cell_type": "markdown",
   "id": "3e6f108b-5bc1-4ec3-992d-7c14c3512e0d",
   "metadata": {},
   "source": [
    "# \"Develop\" a Model aka just use OpenAI's API"
   ]
  },
  {
   "cell_type": "code",
   "execution_count": 8,
   "id": "6f7be18d-5fd4-41b1-aa4d-cabeb14943a2",
   "metadata": {},
   "outputs": [
    {
     "name": "stderr",
     "output_type": "stream",
     "text": [
      "100%|█████████████████████████████████████████████| 1/1 [00:03<00:00,  3.02s/it]\n"
     ]
    },
    {
     "name": "stdout",
     "output_type": "stream",
     "text": [
      "Predicted Labels: ['Average development of main ideas', 'Average work', 'Pretty good job of elaborating', 'Progression is sufficient', 'Pretty good job using resources or evidence']\n",
      "\n"
     ]
    },
    {
     "name": "stderr",
     "output_type": "stream",
     "text": [
      "100%|█████████████████████████████████████████████| 1/1 [00:02<00:00,  2.44s/it]\n"
     ]
    },
    {
     "name": "stdout",
     "output_type": "stream",
     "text": [
      "Predicted Labels: ['Average development of main ideas', 'Average work', 'Pretty good job of elaborating', 'Progression is sufficient', 'Pretty good job using resources or evidence']\n",
      "\n"
     ]
    },
    {
     "name": "stderr",
     "output_type": "stream",
     "text": [
      "100%|█████████████████████████████████████████████| 1/1 [00:01<00:00,  1.84s/it]\n"
     ]
    },
    {
     "name": "stdout",
     "output_type": "stream",
     "text": [
      "Predicted Labels: ['Average development of main ideas', 'Average work', 'Pretty good job of elaborating', 'Progression is sufficient', 'Pretty good job using resources or evidence']\n",
      "\n"
     ]
    },
    {
     "name": "stderr",
     "output_type": "stream",
     "text": [
      "100%|█████████████████████████████████████████████| 1/1 [00:02<00:00,  2.35s/it]\n"
     ]
    },
    {
     "name": "stdout",
     "output_type": "stream",
     "text": [
      "Predicted Labels: ['Average development of main ideas', 'Average work', 'Pretty good job of elaborating', 'Progression is sufficient', 'Pretty good job using resources or evidence']\n",
      "\n"
     ]
    },
    {
     "name": "stderr",
     "output_type": "stream",
     "text": [
      "100%|█████████████████████████████████████████████| 1/1 [00:02<00:00,  2.18s/it]"
     ]
    },
    {
     "name": "stdout",
     "output_type": "stream",
     "text": [
      "Predicted Labels: ['Average development of main ideas', 'Average work', 'Pretty good job of elaborating', 'Progression is sufficient', 'Pretty good job using resources or evidence']\n",
      "\n"
     ]
    },
    {
     "name": "stderr",
     "output_type": "stream",
     "text": [
      "\n"
     ]
    }
   ],
   "source": [
    "# Define candidate labels\n",
    "candidate_labels = [\n",
    "    \"Great development of main ideas\",\n",
    "    \"Average development of main ideas\",\n",
    "    \"Poor development of main ideas\",\n",
    "    \"Undeveloped\",\n",
    "    \"Above average work\",\n",
    "    \"Average work\",\n",
    "    \"Almost average work\",\n",
    "    \"Below average work\",\n",
    "    \"Great job of elaborating\",\n",
    "    \"Pretty good job of elaborating\",\n",
    "    \"Poor job of elaborating\",\n",
    "    \"Did not elaborate\",\n",
    "    \"Fantastic progression\",\n",
    "    \"Progression is sufficient\",\n",
    "    \"Progression is unclear\",\n",
    "    \"Progression does not make sense\",\n",
    "    \"Great use of resources or evidence\",\n",
    "    \"Pretty good job using resources or evidence\",\n",
    "    \"Inadequate use of resources or evidence\",\n",
    "    \"No use of resources or evidence\"\n",
    "]\n",
    "\n",
    "# Create and fit the classifier\n",
    "clf = MultiLabelZeroShotGPTClassifier(max_labels=5) \n",
    "clf.fit(None, [candidate_labels])\n",
    "\n",
    "# Define classification prompt (without specifying the writing_sample)\n",
    "classification_prompt = (\n",
    "    \"Please assess the student's work based on the following criteria:\\n\\n\"\n",
    "    \"Development of Main Ideas:\\n\"\n",
    "    \"1. Great development of main ideas (1: Poor)\\n\"\n",
    "    \"2. Average development of main ideas (2: Fair)\\n\"\n",
    "    \"3. Poor development of main ideas (3: Good)\\n\"\n",
    "    \"4. Undeveloped (4: Excellent)\\n\\n\"\n",
    "    \"Quality of Work:\\n\"\n",
    "    \"5. Above average work (1: Poor)\\n\"\n",
    "    \"6. Average work (2: Fair)\\n\"\n",
    "    \"7. Almost average work (3: Good)\\n\"\n",
    "    \"8. Below average work (4: Excellent)\\n\\n\"\n",
    "    \"Elaboration:\\n\"\n",
    "    \"9. Great job of elaborating (1: Poor)\\n\"\n",
    "    \"10. Pretty good job of elaborating (2: Fair)\\n\"\n",
    "    \"11. Poor job of elaborating (3: Good)\\n\"\n",
    "    \"12. Did not elaborate (4: Excellent)\\n\\n\"\n",
    "    \"Progression:\\n\"\n",
    "    \"13. Fantastic progression (1: Poor)\\n\"\n",
    "    \"14. Progression is sufficient (2: Fair)\\n\"\n",
    "    \"15. Progression is unclear (3: Good)\\n\"\n",
    "    \"16. Progression does not make sense (4: Excellent)\\n\\n\"\n",
    "    \"Use of Resources or Evidence:\\n\"\n",
    "    \"17. Great use of resources or evidence (1: Poor)\\n\"\n",
    "    \"18. Pretty good job using resources or evidence (2: Fair)\\n\"\n",
    "    \"19. Inadequate use of resources or evidence (3: Good)\\n\"\n",
    "    \"20. No use of resources or evidence (4: Excellent)\\n\\n\"\n",
    "    \"Please assign an overall score (1 to 4) based on the criteria above. \"\n",
    "    \"Please be lenient when assigning scores. Samples were written by low-level high school students.\"\n",
    ")\n",
    "\n",
    "# Extracted 'WritingSample' column\n",
    "X = data[\"WritingSample\"]\n",
    "\n",
    "# Iterate through the Writing Samples and classify them\n",
    "for writing_sample in X:\n",
    "    # Generate a classification prompt (only criteria)\n",
    "    criteria_prompt = classification_prompt\n",
    "    \n",
    "    # Use the classifier to classify the writing sample\n",
    "    predicted_labels = clf.predict([criteria_prompt])[0]\n",
    "    \n",
    "    # Print the classification result\n",
    "    print(\"Predicted Labels:\", predicted_labels)\n",
    "    print()"
   ]
  },
  {
   "cell_type": "code",
   "execution_count": 9,
   "id": "d9c26536-06f5-46ea-bc8f-20f63a7aaecd",
   "metadata": {},
   "outputs": [
    {
     "name": "stderr",
     "output_type": "stream",
     "text": [
      "100%|█████████████████████████████████████████████| 5/5 [00:10<00:00,  2.05s/it]\n"
     ]
    }
   ],
   "source": [
    "# Predict the labels\n",
    "labels = clf.predict(X)"
   ]
  },
  {
   "cell_type": "code",
   "execution_count": 10,
   "id": "d836021a-5fb9-494a-bd15-0ab19a02efa5",
   "metadata": {},
   "outputs": [],
   "source": [
    "# Add labels to the dataset and save\n",
    "data['ChatGPTLabel'] = labels\n",
    "data.to_csv('data/classified_tips.csv', index=False)"
   ]
  },
  {
   "cell_type": "markdown",
   "id": "782d5e63-3e5e-4b4f-9d73-a3d43401169b",
   "metadata": {},
   "source": [
    "# Choose a measure of success, Choose an evaluation protocol / evaluate"
   ]
  },
  {
   "cell_type": "code",
   "execution_count": 11,
   "id": "124a5050-aeca-4690-990d-affb41c2c43c",
   "metadata": {},
   "outputs": [
    {
     "data": {
      "text/html": [
       "<div>\n",
       "<style scoped>\n",
       "    .dataframe tbody tr th:only-of-type {\n",
       "        vertical-align: middle;\n",
       "    }\n",
       "\n",
       "    .dataframe tbody tr th {\n",
       "        vertical-align: top;\n",
       "    }\n",
       "\n",
       "    .dataframe thead th {\n",
       "        text-align: right;\n",
       "    }\n",
       "</style>\n",
       "<table border=\"1\" class=\"dataframe\">\n",
       "  <thead>\n",
       "    <tr style=\"text-align: right;\">\n",
       "      <th></th>\n",
       "      <th>WritingSample</th>\n",
       "      <th>ChatGPTLabel</th>\n",
       "    </tr>\n",
       "  </thead>\n",
       "  <tbody>\n",
       "    <tr>\n",
       "      <th>0</th>\n",
       "      <td>Every year, about 1.35 million people are kill...</td>\n",
       "      <td>[Great development of main ideas, Great job of...</td>\n",
       "    </tr>\n",
       "    <tr>\n",
       "      <th>1</th>\n",
       "      <td>In a world driven by technology, some recent a...</td>\n",
       "      <td>[Great development of main ideas, Great job of...</td>\n",
       "    </tr>\n",
       "    <tr>\n",
       "      <th>2</th>\n",
       "      <td>The modern world is changing at a concerningly...</td>\n",
       "      <td>[Great development of main ideas, Great job of...</td>\n",
       "    </tr>\n",
       "    <tr>\n",
       "      <th>3</th>\n",
       "      <td>Technology in today's world continues to take ...</td>\n",
       "      <td>[Great development of main ideas, Great job of...</td>\n",
       "    </tr>\n",
       "    <tr>\n",
       "      <th>4</th>\n",
       "      <td>Technological improvements are occurring world...</td>\n",
       "      <td>[Great development of main ideas, Great job of...</td>\n",
       "    </tr>\n",
       "  </tbody>\n",
       "</table>\n",
       "</div>"
      ],
      "text/plain": [
       "                                       WritingSample  \\\n",
       "0  Every year, about 1.35 million people are kill...   \n",
       "1  In a world driven by technology, some recent a...   \n",
       "2  The modern world is changing at a concerningly...   \n",
       "3  Technology in today's world continues to take ...   \n",
       "4  Technological improvements are occurring world...   \n",
       "\n",
       "                                        ChatGPTLabel  \n",
       "0  [Great development of main ideas, Great job of...  \n",
       "1  [Great development of main ideas, Great job of...  \n",
       "2  [Great development of main ideas, Great job of...  \n",
       "3  [Great development of main ideas, Great job of...  \n",
       "4  [Great development of main ideas, Great job of...  "
      ]
     },
     "execution_count": 11,
     "metadata": {},
     "output_type": "execute_result"
    }
   ],
   "source": [
    "data[[\"WritingSample\",\"ChatGPTLabel\"]]"
   ]
  },
  {
   "cell_type": "code",
   "execution_count": null,
   "id": "87f4c4d6-c197-4666-8de8-dda3b376ec85",
   "metadata": {},
   "outputs": [],
   "source": [
    "accuracy = accuracy_score(data[[\"HumanLabel\"]], data[[\"ChatGPTLabel\"]])\n",
    "print(accuracy)"
   ]
  },
  {
   "cell_type": "markdown",
   "id": "8d7dd10a-5fc6-4359-b23a-563fa0b33f9b",
   "metadata": {},
   "source": [
    "# Skipped Steps\n",
    "* Beat a baseline\n",
    "* Overfit, regularize and tune\n",
    "* Communicate with stakeholders\n",
    "* Ship an inference model\n",
    "* Monitor and maintain"
   ]
  },
  {
   "cell_type": "code",
   "execution_count": null,
   "id": "bdd1c3eb-6af3-4d6d-992c-13fb476cc373",
   "metadata": {},
   "outputs": [],
   "source": []
  }
 ],
 "metadata": {
  "kernelspec": {
   "display_name": "Python 3 (ipykernel)",
   "language": "python",
   "name": "python3"
  },
  "language_info": {
   "codemirror_mode": {
    "name": "ipython",
    "version": 3
   },
   "file_extension": ".py",
   "mimetype": "text/x-python",
   "name": "python",
   "nbconvert_exporter": "python",
   "pygments_lexer": "ipython3",
   "version": "3.10.13"
  }
 },
 "nbformat": 4,
 "nbformat_minor": 5
}
