{
 "cells": [
  {
   "cell_type": "markdown",
   "id": "50936be5-969f-41cd-b9f4-1ea636642009",
   "metadata": {},
   "source": [
    "# Setup"
   ]
  },
  {
   "cell_type": "code",
   "execution_count": 27,
   "id": "071918e7-d672-456c-bc25-0958e499f836",
   "metadata": {},
   "outputs": [],
   "source": [
    "import os\n",
    "import pandas as pd\n",
    "\n",
    "from pprint import pprint\n",
    "\n",
    "from docx import Document\n",
    "\n",
    "from sklearn.metrics import accuracy_score\n",
    "\n",
    "from skllm import MultiLabelZeroShotGPTClassifier\n",
    "from skllm.config import SKLLMConfig"
   ]
  },
  {
   "cell_type": "code",
   "execution_count": 28,
   "id": "00c27fb1-a5f1-428c-95f0-14c1b62abf53",
   "metadata": {},
   "outputs": [],
   "source": [
    "#See notes in INSTALL.md for how to set this, DO NOT HARD CODE YOUR API KEY HERE, \n",
    "# if your repository is public, then someone will steal your API key and make you pay for their shit \n",
    "SKLLMConfig.set_openai_key(os.environ.get('OPENAI_API_KEY'))"
   ]
  },
  {
   "cell_type": "markdown",
   "id": "c5129b91-8cbc-4359-bf2a-dc8d5e00f6ed",
   "metadata": {},
   "source": [
    "# Collect a Dataset"
   ]
  },
  {
   "cell_type": "code",
   "execution_count": 29,
   "id": "67bf99e5-8858-4c91-a913-0d6dc2404eae",
   "metadata": {},
   "outputs": [],
   "source": [
    "import os\n",
    "import pandas as pd\n",
    "from docx import Document\n",
    "\n",
    "# Set the folder path where your Word documents are located\n",
    "folder_path = 'data'\n",
    "\n",
    "X = []\n",
    "\n",
    "# Initialize an empty list to store student names\n",
    "student_names = []\n",
    "\n",
    "# Loop over each file in the folder\n",
    "for filename in os.listdir(folder_path):\n",
    "    if filename.endswith('.docx'):\n",
    "        # Extract the student name from the file name\n",
    "        student_name = os.path.splitext(filename)[0]  # Remove the file extension\n",
    "        student_names.append(student_name)  # Append the student name to the list\n",
    "        \n",
    "        # Construct the full file path\n",
    "        file_path = os.path.join(folder_path, filename)\n",
    "        \n",
    "        # Open the Word document\n",
    "        doc = Document(file_path)\n",
    "        \n",
    "        # Loop over each paragraph in the document and print its text\n",
    "        filetext = \"\"\n",
    "        for para in doc.paragraphs:\n",
    "            filetext += para.text\n",
    "        X.append((student_name, filetext))\n",
    "\n",
    "# Create a DataFrame from the extracted text with student names\n",
    "data = pd.DataFrame(X, columns=['StudentName', 'WritingSample'])\n",
    "\n",
    "# Step 1: Read the CSV file containing the scores assigned by the teacher\n",
    "csv_data = pd.read_csv('data/teacher_grades.csv')\n",
    "\n",
    "# Initialize an empty list to store human labels (letter grades)\n",
    "human_labels = []\n",
    "\n",
    "# Iterate through the rows of the DataFrame\n",
    "for index, row in data.iterrows():\n",
    "    student_name = row['StudentName']\n",
    "    matching_row = csv_data[csv_data['StudentName'] == student_name]  # Match based on 'StudentName'\n",
    "    if not matching_row.empty:\n",
    "        human_labels.append(matching_row['Score'].values[0])  # Append the letter grade to the list\n",
    "    else:\n",
    "        human_labels.append(\"\")  # If no match found, insert an empty string\n",
    "\n",
    "# Add the 'HumanLabel' column to the DataFrame\n",
    "data['HumanLabel'] = human_labels\n",
    "\n",
    "# Now, the 'StudentName' and 'HumanLabel' columns in your DataFrame should be populated correctly"
   ]
  },
  {
   "cell_type": "markdown",
   "id": "923dc7af-b409-44b7-a1f1-cae37154cf81",
   "metadata": {},
   "source": [
    "# Understand Your Data"
   ]
  },
  {
   "cell_type": "code",
   "execution_count": 30,
   "id": "bae5d63e-1a2b-4173-8831-330451b7c5c5",
   "metadata": {},
   "outputs": [
    {
     "data": {
      "text/html": [
       "<div>\n",
       "<style scoped>\n",
       "    .dataframe tbody tr th:only-of-type {\n",
       "        vertical-align: middle;\n",
       "    }\n",
       "\n",
       "    .dataframe tbody tr th {\n",
       "        vertical-align: top;\n",
       "    }\n",
       "\n",
       "    .dataframe thead th {\n",
       "        text-align: right;\n",
       "    }\n",
       "</style>\n",
       "<table border=\"1\" class=\"dataframe\">\n",
       "  <thead>\n",
       "    <tr style=\"text-align: right;\">\n",
       "      <th></th>\n",
       "      <th>StudentName</th>\n",
       "      <th>WritingSample</th>\n",
       "      <th>HumanLabel</th>\n",
       "    </tr>\n",
       "  </thead>\n",
       "  <tbody>\n",
       "    <tr>\n",
       "      <th>0</th>\n",
       "      <td>Student 12</td>\n",
       "      <td>\\tWill robots be able to replace humans? In re...</td>\n",
       "      <td>A</td>\n",
       "    </tr>\n",
       "    <tr>\n",
       "      <th>1</th>\n",
       "      <td>Student 19</td>\n",
       "      <td>Most people think robots are taking over the w...</td>\n",
       "      <td>D</td>\n",
       "    </tr>\n",
       "    <tr>\n",
       "      <th>2</th>\n",
       "      <td>Student 3</td>\n",
       "      <td>Every year, about 1.35 million people are kill...</td>\n",
       "      <td>C</td>\n",
       "    </tr>\n",
       "    <tr>\n",
       "      <th>3</th>\n",
       "      <td>Student 7</td>\n",
       "      <td>The recent advancements of robot technology ha...</td>\n",
       "      <td>C</td>\n",
       "    </tr>\n",
       "    <tr>\n",
       "      <th>4</th>\n",
       "      <td>Student 6</td>\n",
       "      <td>\\tAdvancements in technology have led to groun...</td>\n",
       "      <td>A</td>\n",
       "    </tr>\n",
       "  </tbody>\n",
       "</table>\n",
       "</div>"
      ],
      "text/plain": [
       "  StudentName                                      WritingSample HumanLabel\n",
       "0  Student 12  \\tWill robots be able to replace humans? In re...          A\n",
       "1  Student 19  Most people think robots are taking over the w...          D\n",
       "2   Student 3  Every year, about 1.35 million people are kill...          C\n",
       "3   Student 7  The recent advancements of robot technology ha...          C\n",
       "4   Student 6  \\tAdvancements in technology have led to groun...          A"
      ]
     },
     "execution_count": 30,
     "metadata": {},
     "output_type": "execute_result"
    }
   ],
   "source": [
    "data.head()"
   ]
  },
  {
   "cell_type": "code",
   "execution_count": 31,
   "id": "6bea9e4e-af8a-40ee-9a12-5b9dc3d73fc0",
   "metadata": {},
   "outputs": [
    {
     "data": {
      "text/html": [
       "<div>\n",
       "<style scoped>\n",
       "    .dataframe tbody tr th:only-of-type {\n",
       "        vertical-align: middle;\n",
       "    }\n",
       "\n",
       "    .dataframe tbody tr th {\n",
       "        vertical-align: top;\n",
       "    }\n",
       "\n",
       "    .dataframe thead th {\n",
       "        text-align: right;\n",
       "    }\n",
       "</style>\n",
       "<table border=\"1\" class=\"dataframe\">\n",
       "  <thead>\n",
       "    <tr style=\"text-align: right;\">\n",
       "      <th></th>\n",
       "      <th>StudentName</th>\n",
       "      <th>WritingSample</th>\n",
       "      <th>HumanLabel</th>\n",
       "    </tr>\n",
       "  </thead>\n",
       "  <tbody>\n",
       "    <tr>\n",
       "      <th>count</th>\n",
       "      <td>20</td>\n",
       "      <td>20</td>\n",
       "      <td>20</td>\n",
       "    </tr>\n",
       "    <tr>\n",
       "      <th>unique</th>\n",
       "      <td>20</td>\n",
       "      <td>20</td>\n",
       "      <td>5</td>\n",
       "    </tr>\n",
       "    <tr>\n",
       "      <th>top</th>\n",
       "      <td>Student 12</td>\n",
       "      <td>\\tWill robots be able to replace humans? In re...</td>\n",
       "      <td>B</td>\n",
       "    </tr>\n",
       "    <tr>\n",
       "      <th>freq</th>\n",
       "      <td>1</td>\n",
       "      <td>1</td>\n",
       "      <td>8</td>\n",
       "    </tr>\n",
       "  </tbody>\n",
       "</table>\n",
       "</div>"
      ],
      "text/plain": [
       "       StudentName                                      WritingSample  \\\n",
       "count           20                                                 20   \n",
       "unique          20                                                 20   \n",
       "top     Student 12  \\tWill robots be able to replace humans? In re...   \n",
       "freq             1                                                  1   \n",
       "\n",
       "       HumanLabel  \n",
       "count          20  \n",
       "unique          5  \n",
       "top             B  \n",
       "freq            8  "
      ]
     },
     "execution_count": 31,
     "metadata": {},
     "output_type": "execute_result"
    }
   ],
   "source": [
    "data.describe()"
   ]
  },
  {
   "cell_type": "code",
   "execution_count": 32,
   "id": "2aa94aca-fb96-4217-9a8e-456bb8ea7a91",
   "metadata": {},
   "outputs": [],
   "source": [
    "X = data[\"WritingSample\"]"
   ]
  },
  {
   "cell_type": "code",
   "execution_count": 33,
   "id": "08e76d2a-b14e-472e-a759-6f97bd38a19a",
   "metadata": {
    "scrolled": true
   },
   "outputs": [
    {
     "data": {
      "text/plain": [
       "0     \\tWill robots be able to replace humans? In re...\n",
       "1     Most people think robots are taking over the w...\n",
       "2     Every year, about 1.35 million people are kill...\n",
       "3     The recent advancements of robot technology ha...\n",
       "4     \\tAdvancements in technology have led to groun...\n",
       "5     Technology has come a long way from when it fi...\n",
       "6     \\tRobot technology has advancements year aroun...\n",
       "7     Technology has been  so much to prevent any ac...\n",
       "8         In this new age, there have been rapid cha...\n",
       "9     In a world driven by technology, some recent a...\n",
       "10    The modern world is changing at a concerningly...\n",
       "11    Imagine a world where robots are not only a pa...\n",
       "12    AI and robot technology is becoming more and m...\n",
       "13    Imagine you're just chilling in your dorm and ...\n",
       "14    Technology in today's world continues to take ...\n",
       "15    Recent advancements in robot technology have h...\n",
       "16                                                     \n",
       "17    Technological improvements are occurring world...\n",
       "18    It has been found that since 2018 new AI syste...\n",
       "19    Before humanity developed technology, they wer...\n",
       "Name: WritingSample, dtype: object"
      ]
     },
     "execution_count": 33,
     "metadata": {},
     "output_type": "execute_result"
    }
   ],
   "source": [
    "X"
   ]
  },
  {
   "cell_type": "markdown",
   "id": "3e6f108b-5bc1-4ec3-992d-7c14c3512e0d",
   "metadata": {},
   "source": [
    "# \"Develop\" a Model aka just use OpenAI's API"
   ]
  },
  {
   "cell_type": "code",
   "execution_count": 34,
   "id": "6f7be18d-5fd4-41b1-aa4d-cabeb14943a2",
   "metadata": {},
   "outputs": [
    {
     "name": "stderr",
     "output_type": "stream",
     "text": [
      "100%|███████████████████████████████████████████| 1/1 [00:00<00:00,  1.23it/s]\n"
     ]
    },
    {
     "name": "stdout",
     "output_type": "stream",
     "text": [
      "Predicted Labels: ['A', 'C']\n",
      "\n"
     ]
    },
    {
     "name": "stderr",
     "output_type": "stream",
     "text": [
      "100%|███████████████████████████████████████████| 1/1 [00:00<00:00,  1.38it/s]\n"
     ]
    },
    {
     "name": "stdout",
     "output_type": "stream",
     "text": [
      "Predicted Labels: ['A', 'C']\n",
      "\n"
     ]
    },
    {
     "name": "stderr",
     "output_type": "stream",
     "text": [
      "100%|███████████████████████████████████████████| 1/1 [00:00<00:00,  1.22it/s]\n"
     ]
    },
    {
     "name": "stdout",
     "output_type": "stream",
     "text": [
      "Predicted Labels: []\n",
      "\n"
     ]
    },
    {
     "name": "stderr",
     "output_type": "stream",
     "text": [
      "100%|███████████████████████████████████████████| 1/1 [00:00<00:00,  1.40it/s]\n"
     ]
    },
    {
     "name": "stdout",
     "output_type": "stream",
     "text": [
      "Predicted Labels: ['A', 'C']\n",
      "\n"
     ]
    },
    {
     "name": "stderr",
     "output_type": "stream",
     "text": [
      "100%|███████████████████████████████████████████| 1/1 [00:00<00:00,  1.40it/s]\n"
     ]
    },
    {
     "name": "stdout",
     "output_type": "stream",
     "text": [
      "Predicted Labels: ['C', 'D']\n",
      "\n"
     ]
    },
    {
     "name": "stderr",
     "output_type": "stream",
     "text": [
      "100%|███████████████████████████████████████████| 1/1 [00:00<00:00,  1.09it/s]\n"
     ]
    },
    {
     "name": "stdout",
     "output_type": "stream",
     "text": [
      "Predicted Labels: ['A', 'C']\n",
      "\n"
     ]
    },
    {
     "name": "stderr",
     "output_type": "stream",
     "text": [
      "100%|███████████████████████████████████████████| 1/1 [00:00<00:00,  1.40it/s]\n"
     ]
    },
    {
     "name": "stdout",
     "output_type": "stream",
     "text": [
      "Predicted Labels: ['A', 'C']\n",
      "\n"
     ]
    },
    {
     "name": "stderr",
     "output_type": "stream",
     "text": [
      "100%|███████████████████████████████████████████| 1/1 [00:00<00:00,  1.40it/s]\n"
     ]
    },
    {
     "name": "stdout",
     "output_type": "stream",
     "text": [
      "Predicted Labels: ['A', 'C']\n",
      "\n"
     ]
    },
    {
     "name": "stderr",
     "output_type": "stream",
     "text": [
      "100%|███████████████████████████████████████████| 1/1 [00:00<00:00,  1.40it/s]\n"
     ]
    },
    {
     "name": "stdout",
     "output_type": "stream",
     "text": [
      "Predicted Labels: ['A', 'C']\n",
      "\n"
     ]
    },
    {
     "name": "stderr",
     "output_type": "stream",
     "text": [
      "100%|███████████████████████████████████████████| 1/1 [00:00<00:00,  1.09it/s]\n"
     ]
    },
    {
     "name": "stdout",
     "output_type": "stream",
     "text": [
      "Predicted Labels: ['A', 'B']\n",
      "\n"
     ]
    },
    {
     "name": "stderr",
     "output_type": "stream",
     "text": [
      "100%|███████████████████████████████████████████| 1/1 [00:00<00:00,  1.22it/s]\n"
     ]
    },
    {
     "name": "stdout",
     "output_type": "stream",
     "text": [
      "Predicted Labels: ['C', 'D']\n",
      "\n"
     ]
    },
    {
     "name": "stderr",
     "output_type": "stream",
     "text": [
      "100%|███████████████████████████████████████████| 1/1 [00:00<00:00,  1.34it/s]\n"
     ]
    },
    {
     "name": "stdout",
     "output_type": "stream",
     "text": [
      "Predicted Labels: ['A', 'C']\n",
      "\n"
     ]
    },
    {
     "name": "stderr",
     "output_type": "stream",
     "text": [
      "100%|███████████████████████████████████████████| 1/1 [00:00<00:00,  1.01it/s]\n"
     ]
    },
    {
     "name": "stdout",
     "output_type": "stream",
     "text": [
      "Predicted Labels: ['C', 'D']\n",
      "\n"
     ]
    },
    {
     "name": "stderr",
     "output_type": "stream",
     "text": [
      "100%|███████████████████████████████████████████| 1/1 [00:00<00:00,  1.40it/s]\n"
     ]
    },
    {
     "name": "stdout",
     "output_type": "stream",
     "text": [
      "Predicted Labels: ['B', 'C']\n",
      "\n"
     ]
    },
    {
     "name": "stderr",
     "output_type": "stream",
     "text": [
      "100%|███████████████████████████████████████████| 1/1 [00:00<00:00,  1.32it/s]\n"
     ]
    },
    {
     "name": "stdout",
     "output_type": "stream",
     "text": [
      "Predicted Labels: ['B', 'C']\n",
      "\n"
     ]
    },
    {
     "name": "stderr",
     "output_type": "stream",
     "text": [
      "100%|███████████████████████████████████████████| 1/1 [00:00<00:00,  1.45it/s]\n"
     ]
    },
    {
     "name": "stdout",
     "output_type": "stream",
     "text": [
      "Predicted Labels: ['C', 'D']\n",
      "\n"
     ]
    },
    {
     "name": "stderr",
     "output_type": "stream",
     "text": [
      "100%|███████████████████████████████████████████| 1/1 [00:00<00:00,  1.44it/s]\n"
     ]
    },
    {
     "name": "stdout",
     "output_type": "stream",
     "text": [
      "Predicted Labels: ['A', 'C']\n",
      "\n"
     ]
    },
    {
     "name": "stderr",
     "output_type": "stream",
     "text": [
      "100%|███████████████████████████████████████████| 1/1 [00:00<00:00,  1.22it/s]\n"
     ]
    },
    {
     "name": "stdout",
     "output_type": "stream",
     "text": [
      "Predicted Labels: ['A', 'C']\n",
      "\n"
     ]
    },
    {
     "name": "stderr",
     "output_type": "stream",
     "text": [
      "100%|███████████████████████████████████████████| 1/1 [00:00<00:00,  1.22it/s]\n"
     ]
    },
    {
     "name": "stdout",
     "output_type": "stream",
     "text": [
      "Predicted Labels: ['A', 'C']\n",
      "\n"
     ]
    },
    {
     "name": "stderr",
     "output_type": "stream",
     "text": [
      "100%|███████████████████████████████████████████| 1/1 [00:00<00:00,  1.47it/s]"
     ]
    },
    {
     "name": "stdout",
     "output_type": "stream",
     "text": [
      "Predicted Labels: ['C', 'D']\n",
      "\n"
     ]
    },
    {
     "name": "stderr",
     "output_type": "stream",
     "text": [
      "\n"
     ]
    }
   ],
   "source": [
    "# Define candidate labels\n",
    "candidate_labels = [\n",
    "    \"A\",\n",
    "    \"B\",\n",
    "    \"C\",\n",
    "    \"D\",\n",
    "    \"F\"\n",
    "]\n",
    "\n",
    "# Create and fit the classifier\n",
    "clf = MultiLabelZeroShotGPTClassifier(max_labels=2) \n",
    "clf.fit(None, [candidate_labels])\n",
    "\n",
    "# Define classification prompt (without specifying the writing_sample)\n",
    "classification_prompt = (\n",
    "    \"Please be very strict when assigning scores. Anything that earns an A should be almost perfect. Bs should be extremely good. Cs should be average. Ds should be okay. Fs should be for inadequate work.\\n\"\n",
    "    \"The writing sample is for a standardized test for high school students. Teachers are supposed to grade this with a 'critical eye'. Good writing should be rewarded with high scores. Anything that is less than stellar should be penalized. \\n\"\n",
    "    \"Any samples that are blank or almost blank result in a score of F. \\n\"\n",
    "    \"Excessive mistakes with spelling, punctuation, and grammar will reduce scores. \\n\"\n",
    "    \"Language is important. Students must use appropriate language when describing things. \\n\"\n",
    "    \"Bonus points for examples in which the writer did a good job of elaborating. \\n\"\n",
    "    \"Bonus points for when the writer did a good job of utilizing or referencing other documents. \\n\"\n",
    "    \"Engaging and interesting writing improves scores. \\n\"\n",
    "    \"Please assess the student's work based on the following criteria for grading:\\n\\n\"\n",
    "    \"Development of Main Ideas:\\n\"\n",
    "    \"1. Perfect development of main ideas (A: Almost perfect, outstanding development)\\n\"\n",
    "    \"2. Great development of main ideas (B: Extremely good, very strong development)\\n\"\n",
    "    \"3. Good development of main ideas (C: Above average, solid development)\\n\"\n",
    "    \"4. Okay development of main ideas (D: Adequate, fair development)\\n\"\n",
    "    \"5. Undeveloped (F: Poor, no development)\\n\\n\"\n",
    "    \"Quality of Work:\\n\"\n",
    "    \"6. Above average work (A: Exceptional quality, outstanding work)\\n\"\n",
    "    \"7. Great work (B: Very good, excellent quality)\\n\"\n",
    "    \"8. Good work (C: Above average, solid quality)\\n\"\n",
    "    \"9. Okay work (D: Adequate, fair quality)\\n\"\n",
    "    \"10. Below average work (F: Poor, unacceptable quality)\\n\\n\"\n",
    "    \"Flow:\\n\"\n",
    "    \"11. Writing flows perfectly (A: Perfect flow, flawless coherence)\\n\"\n",
    "    \"12. Writing has a great flow (B: Great flow, very smooth and coherent)\\n\"\n",
    "    \"13. Writing has a good flow (C: Good flow, generally coherent)\\n\"\n",
    "    \"14. The flow of this writing is confusing (D: Fair flow, somewhat confusing)\\n\"\n",
    "    \"15. The flow of this writing does not make sense (F: Poor flow, completely confusing)\\n\\n\"\n",
    "    \"Use of Resources or Evidence:\\n\"\n",
    "    \"16. Great use of resources or evidence (A: Perfect utilization, highly effective)\\n\"\n",
    "    \"17. Used or referenced resources, but it could have been done better (C: Good utilization, moderately effective)\\n\"\n",
    "    \"18. Inadequate use of resources or evidence (F: Poor utilization, ineffective)\\n\"\n",
    "    \"Tone:\\n\"\n",
    "    \"19. Tone strengthens the writing (A: Perfect tone, enhances the writing)\\n\"\n",
    "    \"20. Tone is great (B: Great tone, very appropriate)\\n\"\n",
    "    \"21. Tone is appropriate but could be better (C: Good tone, generally suitable)\\n\"\n",
    "    \"22. Tone is inconsistent or confusing (D: Fair tone, somewhat inconsistent)\\n\"\n",
    "    \"23. Tone is inappropriate (F: Poor tone, completely inappropriate)\\n\\n\"\n",
    "    \"Language: \\n\"\n",
    "    \"24. Exceptional use of grammar and language (A: Perfect language, impeccable grammar)\\n\"\n",
    "    \"25. Great use of grammar and language (B: Great language, very strong grammar)\\n\"\n",
    "    \"26. Good use of grammar and language (C: Good language, generally correct grammar)\\n\"\n",
    "    \"27. Sub-standard use of grammar and language (D: Fair language, some grammar issues)\\n\"\n",
    "    \"28. Poor use of grammar and language (F: Poor language, numerous grammar issues)\\n\\n\"\n",
    "    \"Please assign an overall score of A to F based on the criteria above. An A is the best score and an F is the worst score.\"\n",
    ")\n",
    "\n",
    "# Iterate through the Writing Samples and classify them\n",
    "for writing_sample in X:\n",
    "    # Generate a classification prompt (including criteria and the writing sample)\n",
    "    complete_prompt = classification_prompt + f\"\\n\\n{writing_sample}\"\n",
    "    \n",
    "    # Use the classifier to classify the writing sample\n",
    "    predicted_labels = clf.predict([complete_prompt])[0]\n",
    "    \n",
    "    # Print the classification result\n",
    "    print(\"Predicted Labels:\", predicted_labels)\n",
    "    print()"
   ]
  },
  {
   "cell_type": "code",
   "execution_count": 35,
   "id": "7d9c1ea9-2af3-4647-9e7c-3b0fcf116fac",
   "metadata": {},
   "outputs": [
    {
     "name": "stderr",
     "output_type": "stream",
     "text": [
      "100%|███████████████████████████████████████████| 1/1 [00:00<00:00,  1.43it/s]\n"
     ]
    },
    {
     "name": "stdout",
     "output_type": "stream",
     "text": [
      "Sample 1 - Average Score: 4.0, Letter Grade: B\n"
     ]
    },
    {
     "name": "stderr",
     "output_type": "stream",
     "text": [
      "100%|███████████████████████████████████████████| 1/1 [00:00<00:00,  1.40it/s]\n"
     ]
    },
    {
     "name": "stdout",
     "output_type": "stream",
     "text": [
      "Sample 2 - Average Score: 4.0, Letter Grade: B\n"
     ]
    },
    {
     "name": "stderr",
     "output_type": "stream",
     "text": [
      "100%|███████████████████████████████████████████| 1/1 [00:00<00:00,  1.22it/s]\n"
     ]
    },
    {
     "name": "stdout",
     "output_type": "stream",
     "text": [
      "Sample 3 - Average Score: 3.5, Letter Grade: B\n"
     ]
    },
    {
     "name": "stderr",
     "output_type": "stream",
     "text": [
      "100%|███████████████████████████████████████████| 1/1 [00:00<00:00,  1.40it/s]\n"
     ]
    },
    {
     "name": "stdout",
     "output_type": "stream",
     "text": [
      "Sample 4 - Average Score: 4.0, Letter Grade: B\n"
     ]
    },
    {
     "name": "stderr",
     "output_type": "stream",
     "text": [
      "100%|███████████████████████████████████████████| 1/1 [00:00<00:00,  1.40it/s]\n"
     ]
    },
    {
     "name": "stdout",
     "output_type": "stream",
     "text": [
      "Sample 5 - Average Score: 2.5, Letter Grade: C\n"
     ]
    },
    {
     "name": "stderr",
     "output_type": "stream",
     "text": [
      "100%|███████████████████████████████████████████| 1/1 [00:00<00:00,  1.41it/s]\n"
     ]
    },
    {
     "name": "stdout",
     "output_type": "stream",
     "text": [
      "Sample 6 - Average Score: 4.0, Letter Grade: B\n"
     ]
    },
    {
     "name": "stderr",
     "output_type": "stream",
     "text": [
      "100%|███████████████████████████████████████████| 1/1 [00:00<00:00,  1.39it/s]\n"
     ]
    },
    {
     "name": "stdout",
     "output_type": "stream",
     "text": [
      "Sample 7 - Average Score: 4.0, Letter Grade: B\n"
     ]
    },
    {
     "name": "stderr",
     "output_type": "stream",
     "text": [
      "100%|███████████████████████████████████████████| 1/1 [00:01<00:00,  1.02s/it]\n"
     ]
    },
    {
     "name": "stdout",
     "output_type": "stream",
     "text": [
      "Sample 8 - Average Score: 4.0, Letter Grade: B\n"
     ]
    },
    {
     "name": "stderr",
     "output_type": "stream",
     "text": [
      "100%|███████████████████████████████████████████| 1/1 [00:00<00:00,  1.22it/s]\n"
     ]
    },
    {
     "name": "stdout",
     "output_type": "stream",
     "text": [
      "Sample 9 - Average Score: 4.0, Letter Grade: B\n"
     ]
    },
    {
     "name": "stderr",
     "output_type": "stream",
     "text": [
      "100%|███████████████████████████████████████████| 1/1 [00:00<00:00,  1.53it/s]\n"
     ]
    },
    {
     "name": "stdout",
     "output_type": "stream",
     "text": [
      "Sample 10 - Average Score: 4.5, Letter Grade: A\n"
     ]
    },
    {
     "name": "stderr",
     "output_type": "stream",
     "text": [
      "100%|███████████████████████████████████████████| 1/1 [00:00<00:00,  1.29it/s]\n"
     ]
    },
    {
     "name": "stdout",
     "output_type": "stream",
     "text": [
      "Sample 11 - Average Score: 4.0, Letter Grade: B\n"
     ]
    },
    {
     "name": "stderr",
     "output_type": "stream",
     "text": [
      "100%|███████████████████████████████████████████| 1/1 [00:00<00:00,  1.22it/s]\n"
     ]
    },
    {
     "name": "stdout",
     "output_type": "stream",
     "text": [
      "Sample 12 - Average Score: 4.0, Letter Grade: B\n"
     ]
    },
    {
     "name": "stderr",
     "output_type": "stream",
     "text": [
      "100%|███████████████████████████████████████████| 1/1 [00:00<00:00,  1.22it/s]\n"
     ]
    },
    {
     "name": "stdout",
     "output_type": "stream",
     "text": [
      "Sample 13 - Average Score: 2.5, Letter Grade: C\n"
     ]
    },
    {
     "name": "stderr",
     "output_type": "stream",
     "text": [
      "100%|███████████████████████████████████████████| 1/1 [00:04<00:00,  4.30s/it]\n"
     ]
    },
    {
     "name": "stdout",
     "output_type": "stream",
     "text": [
      "Sample 14 - Average Score: 3.5, Letter Grade: B\n"
     ]
    },
    {
     "name": "stderr",
     "output_type": "stream",
     "text": [
      "100%|███████████████████████████████████████████| 1/1 [00:00<00:00,  1.22it/s]\n"
     ]
    },
    {
     "name": "stdout",
     "output_type": "stream",
     "text": [
      "Sample 15 - Average Score: 3.5, Letter Grade: B\n"
     ]
    },
    {
     "name": "stderr",
     "output_type": "stream",
     "text": [
      "100%|███████████████████████████████████████████| 1/1 [00:00<00:00,  1.40it/s]\n"
     ]
    },
    {
     "name": "stdout",
     "output_type": "stream",
     "text": [
      "Sample 16 - Average Score: 2.5, Letter Grade: C\n"
     ]
    },
    {
     "name": "stderr",
     "output_type": "stream",
     "text": [
      "100%|███████████████████████████████████████████| 1/1 [00:00<00:00,  1.48it/s]\n"
     ]
    },
    {
     "name": "stdout",
     "output_type": "stream",
     "text": [
      "Sample 17 - Average Score: 4.0, Letter Grade: B\n"
     ]
    },
    {
     "name": "stderr",
     "output_type": "stream",
     "text": [
      "100%|███████████████████████████████████████████| 1/1 [00:00<00:00,  1.40it/s]\n"
     ]
    },
    {
     "name": "stdout",
     "output_type": "stream",
     "text": [
      "Sample 18 - Average Score: 4.0, Letter Grade: B\n"
     ]
    },
    {
     "name": "stderr",
     "output_type": "stream",
     "text": [
      "100%|███████████████████████████████████████████| 1/1 [00:00<00:00,  1.32it/s]\n"
     ]
    },
    {
     "name": "stdout",
     "output_type": "stream",
     "text": [
      "Sample 19 - Average Score: 4.0, Letter Grade: B\n"
     ]
    },
    {
     "name": "stderr",
     "output_type": "stream",
     "text": [
      "100%|███████████████████████████████████████████| 1/1 [00:00<00:00,  1.40it/s]"
     ]
    },
    {
     "name": "stdout",
     "output_type": "stream",
     "text": [
      "Sample 20 - Average Score: 2.5, Letter Grade: C\n"
     ]
    },
    {
     "name": "stderr",
     "output_type": "stream",
     "text": [
      "\n"
     ]
    }
   ],
   "source": [
    "# Create an empty list to store final letter grades\n",
    "final_letter_grades = []\n",
    "\n",
    "# Define a mapping of letter grades to numerical values\n",
    "numerical_values = {\n",
    "    \"A\": 5,\n",
    "    \"B\": 4,\n",
    "    \"C\": 3,\n",
    "    \"D\": 2,\n",
    "    \"F\": 1\n",
    "}\n",
    "\n",
    "# Iterate through the Writing Samples and classify them\n",
    "for i, writing_sample in enumerate(X):\n",
    "    # Generate a classification prompt (including criteria and the writing sample)\n",
    "    complete_prompt = classification_prompt + f\"\\n\\n{writing_sample}\"\n",
    "    \n",
    "    # Use the classifier to classify the writing sample\n",
    "    predicted_labels = clf.predict([complete_prompt])[0]\n",
    "    \n",
    "    # Calculate the average score for this sample\n",
    "    average_score = sum([numerical_values[label] for label in predicted_labels]) / len(predicted_labels)\n",
    "    \n",
    "    # Custom rounding logic: Round up for scores with a decimal part of 0.5 or greater\n",
    "    rounded_grade = round(average_score) if average_score % 1 < 0.5 else int(average_score) + 1\n",
    "    \n",
    "    # Convert the rounded grade back to a letter grade\n",
    "    final_letter_grade = next(label for label, value in numerical_values.items() if value == rounded_grade)\n",
    "    \n",
    "    # Append the final letter grade to the list\n",
    "    final_letter_grades.append(final_letter_grade)\n",
    "    \n",
    "    # Print the results for this sample\n",
    "    print(f\"Sample {i + 1} - Average Score: {average_score}, Letter Grade: {final_letter_grade}\")\n",
    "\n",
    "# Now, final_letter_grades contains the letter grade for each writing sample\n"
   ]
  },
  {
   "cell_type": "code",
   "execution_count": 36,
   "id": "d836021a-5fb9-494a-bd15-0ab19a02efa5",
   "metadata": {
    "scrolled": true
   },
   "outputs": [],
   "source": [
    "# Add labels to the dataset and save\n",
    "data['ChatGPTLabel'] = final_letter_grades\n",
    "data.to_csv('data/classified_tips.csv', index=False)\n"
   ]
  },
  {
   "cell_type": "markdown",
   "id": "782d5e63-3e5e-4b4f-9d73-a3d43401169b",
   "metadata": {},
   "source": [
    "# Choose a measure of success, Choose an evaluation protocol / evaluate"
   ]
  },
  {
   "cell_type": "code",
   "execution_count": 37,
   "id": "fc87a258-1e39-4003-86a5-086900728d04",
   "metadata": {},
   "outputs": [
    {
     "name": "stdout",
     "output_type": "stream",
     "text": [
      "Index(['StudentName', 'WritingSample', 'HumanLabel', 'ChatGPTLabel'], dtype='object')\n"
     ]
    }
   ],
   "source": [
    "print(data.columns)"
   ]
  },
  {
   "cell_type": "code",
   "execution_count": 38,
   "id": "124a5050-aeca-4690-990d-affb41c2c43c",
   "metadata": {},
   "outputs": [
    {
     "name": "stdout",
     "output_type": "stream",
     "text": [
      "                                        WritingSample ChatGPTLabel HumanLabel\n",
      "0   \\tWill robots be able to replace humans? In re...            B          A\n",
      "1   Most people think robots are taking over the w...            B          D\n",
      "2   Every year, about 1.35 million people are kill...            B          C\n",
      "3   The recent advancements of robot technology ha...            B          C\n",
      "4   \\tAdvancements in technology have led to groun...            C          A\n",
      "5   Technology has come a long way from when it fi...            B          C\n",
      "6   \\tRobot technology has advancements year aroun...            B          B\n",
      "7   Technology has been  so much to prevent any ac...            B          B\n",
      "8       In this new age, there have been rapid cha...            B          B\n",
      "9   In a world driven by technology, some recent a...            A          B\n",
      "10  The modern world is changing at a concerningly...            B          A\n",
      "11  Imagine a world where robots are not only a pa...            B          B\n",
      "12  AI and robot technology is becoming more and m...            C          C\n",
      "13  Imagine you're just chilling in your dorm and ...            B          F\n",
      "14  Technology in today's world continues to take ...            B          B\n",
      "15  Recent advancements in robot technology have h...            C          B\n",
      "16                                                               B          F\n",
      "17  Technological improvements are occurring world...            B          A\n",
      "18  It has been found that since 2018 new AI syste...            B          B\n",
      "19  Before humanity developed technology, they wer...            C          A\n"
     ]
    }
   ],
   "source": [
    "selected_columns = data[[\"WritingSample\", \"ChatGPTLabel\", \"HumanLabel\"]]\n",
    "print(selected_columns)"
   ]
  },
  {
   "cell_type": "code",
   "execution_count": 39,
   "id": "87f4c4d6-c197-4666-8de8-dda3b376ec85",
   "metadata": {},
   "outputs": [
    {
     "name": "stdout",
     "output_type": "stream",
     "text": [
      "Accuracy: 0.35\n"
     ]
    }
   ],
   "source": [
    "from sklearn.metrics import accuracy_score\n",
    "\n",
    "# Check if the column 'HumanLabel' exists in your DataFrame\n",
    "if 'HumanLabel' in data.columns:\n",
    "    # Ensure the column 'HumanLabel' has compatible data types (e.g., both are strings)\n",
    "    data['HumanLabel'] = data['HumanLabel'].astype(str)\n",
    "    \n",
    "    # Calculate accuracy\n",
    "    accuracy = accuracy_score(data['HumanLabel'], data['ChatGPTLabel'])\n",
    "    print(\"Accuracy:\", accuracy)\n",
    "else:\n",
    "    print(\"Column 'HumanLabel' not found in the DataFrame.\")\n",
    "\n"
   ]
  },
  {
   "cell_type": "markdown",
   "id": "8d7dd10a-5fc6-4359-b23a-563fa0b33f9b",
   "metadata": {},
   "source": [
    "# Skipped Steps\n",
    "* Beat a baseline\n",
    "* Overfit, regularize and tune\n",
    "* Communicate with stakeholders\n",
    "* Ship an inference model\n",
    "* Monitor and maintain"
   ]
  }
 ],
 "metadata": {
  "kernelspec": {
   "display_name": "Python 3 (ipykernel)",
   "language": "python",
   "name": "python3"
  },
  "language_info": {
   "codemirror_mode": {
    "name": "ipython",
    "version": 3
   },
   "file_extension": ".py",
   "mimetype": "text/x-python",
   "name": "python",
   "nbconvert_exporter": "python",
   "pygments_lexer": "ipython3",
   "version": "3.10.13"
  }
 },
 "nbformat": 4,
 "nbformat_minor": 5
}
