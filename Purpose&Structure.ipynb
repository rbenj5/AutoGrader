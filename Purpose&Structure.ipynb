{
 "cells": [
  {
   "cell_type": "markdown",
   "id": "50936be5-969f-41cd-b9f4-1ea636642009",
   "metadata": {},
   "source": [
    "# Setup"
   ]
  },
  {
   "cell_type": "code",
   "execution_count": 1,
   "id": "071918e7-d672-456c-bc25-0958e499f836",
   "metadata": {},
   "outputs": [],
   "source": [
    "import os\n",
    "import pandas as pd\n",
    "\n",
    "from pprint import pprint\n",
    "\n",
    "from docx import Document\n",
    "\n",
    "from sklearn.metrics import accuracy_score\n",
    "\n",
    "from skllm import MultiLabelZeroShotGPTClassifier\n",
    "from skllm.config import SKLLMConfig"
   ]
  },
  {
   "cell_type": "code",
   "execution_count": 2,
   "id": "00c27fb1-a5f1-428c-95f0-14c1b62abf53",
   "metadata": {},
   "outputs": [],
   "source": [
    "#See notes in INSTALL.md for how to set this, DO NOT HARD CODE YOUR API KEY HERE, \n",
    "# if your repository is public, then someone will steal your API key and make you pay for their shit \n",
    "SKLLMConfig.set_openai_key(os.environ.get('OPENAI_API_KEY'))"
   ]
  },
  {
   "cell_type": "markdown",
   "id": "c5129b91-8cbc-4359-bf2a-dc8d5e00f6ed",
   "metadata": {},
   "source": [
    "# Collect a Dataset"
   ]
  },
  {
   "cell_type": "code",
   "execution_count": 3,
   "id": "78ced7e9-9901-4855-980a-c3713933b193",
   "metadata": {},
   "outputs": [],
   "source": [
    "# Set the folder path where your Word documents are located\n",
    "folder_path = 'data'\n",
    "\n",
    "X = []\n",
    "\n",
    "# Loop over each file in the folder\n",
    "for filename in os.listdir(folder_path):\n",
    "    if filename.endswith('.docx'):\n",
    "        # Construct the full file path\n",
    "        file_path = os.path.join(folder_path, filename)\n",
    "        \n",
    "        # Open the Word document\n",
    "        doc = Document(file_path)\n",
    "        \n",
    "        # Loop over each paragraph in the document and print its text\n",
    "        filetext=\"\"\n",
    "        for para in doc.paragraphs:\n",
    "            filetext+=para.text\n",
    "        X.append(filetext)\n",
    "\n",
    "data = pd.DataFrame(X, columns=['WritingSample'])\n",
    "\n"
   ]
  },
  {
   "cell_type": "markdown",
   "id": "923dc7af-b409-44b7-a1f1-cae37154cf81",
   "metadata": {},
   "source": [
    "# Understand Your Data"
   ]
  },
  {
   "cell_type": "code",
   "execution_count": 4,
   "id": "bae5d63e-1a2b-4173-8831-330451b7c5c5",
   "metadata": {},
   "outputs": [
    {
     "data": {
      "text/html": [
       "<div>\n",
       "<style scoped>\n",
       "    .dataframe tbody tr th:only-of-type {\n",
       "        vertical-align: middle;\n",
       "    }\n",
       "\n",
       "    .dataframe tbody tr th {\n",
       "        vertical-align: top;\n",
       "    }\n",
       "\n",
       "    .dataframe thead th {\n",
       "        text-align: right;\n",
       "    }\n",
       "</style>\n",
       "<table border=\"1\" class=\"dataframe\">\n",
       "  <thead>\n",
       "    <tr style=\"text-align: right;\">\n",
       "      <th></th>\n",
       "      <th>WritingSample</th>\n",
       "    </tr>\n",
       "  </thead>\n",
       "  <tbody>\n",
       "    <tr>\n",
       "      <th>0</th>\n",
       "      <td>Every year, about 1.35 million people are kill...</td>\n",
       "    </tr>\n",
       "    <tr>\n",
       "      <th>1</th>\n",
       "      <td>In a world driven by technology, some recent a...</td>\n",
       "    </tr>\n",
       "    <tr>\n",
       "      <th>2</th>\n",
       "      <td>The modern world is changing at a concerningly...</td>\n",
       "    </tr>\n",
       "    <tr>\n",
       "      <th>3</th>\n",
       "      <td>Technology in today's world continues to take ...</td>\n",
       "    </tr>\n",
       "    <tr>\n",
       "      <th>4</th>\n",
       "      <td>Technological improvements are occurring world...</td>\n",
       "    </tr>\n",
       "  </tbody>\n",
       "</table>\n",
       "</div>"
      ],
      "text/plain": [
       "                                       WritingSample\n",
       "0  Every year, about 1.35 million people are kill...\n",
       "1  In a world driven by technology, some recent a...\n",
       "2  The modern world is changing at a concerningly...\n",
       "3  Technology in today's world continues to take ...\n",
       "4  Technological improvements are occurring world..."
      ]
     },
     "execution_count": 4,
     "metadata": {},
     "output_type": "execute_result"
    }
   ],
   "source": [
    "data.head()"
   ]
  },
  {
   "cell_type": "code",
   "execution_count": 5,
   "id": "6bea9e4e-af8a-40ee-9a12-5b9dc3d73fc0",
   "metadata": {},
   "outputs": [
    {
     "data": {
      "text/html": [
       "<div>\n",
       "<style scoped>\n",
       "    .dataframe tbody tr th:only-of-type {\n",
       "        vertical-align: middle;\n",
       "    }\n",
       "\n",
       "    .dataframe tbody tr th {\n",
       "        vertical-align: top;\n",
       "    }\n",
       "\n",
       "    .dataframe thead th {\n",
       "        text-align: right;\n",
       "    }\n",
       "</style>\n",
       "<table border=\"1\" class=\"dataframe\">\n",
       "  <thead>\n",
       "    <tr style=\"text-align: right;\">\n",
       "      <th></th>\n",
       "      <th>WritingSample</th>\n",
       "    </tr>\n",
       "  </thead>\n",
       "  <tbody>\n",
       "    <tr>\n",
       "      <th>count</th>\n",
       "      <td>5</td>\n",
       "    </tr>\n",
       "    <tr>\n",
       "      <th>unique</th>\n",
       "      <td>5</td>\n",
       "    </tr>\n",
       "    <tr>\n",
       "      <th>top</th>\n",
       "      <td>Every year, about 1.35 million people are kill...</td>\n",
       "    </tr>\n",
       "    <tr>\n",
       "      <th>freq</th>\n",
       "      <td>1</td>\n",
       "    </tr>\n",
       "  </tbody>\n",
       "</table>\n",
       "</div>"
      ],
      "text/plain": [
       "                                            WritingSample\n",
       "count                                                   5\n",
       "unique                                                  5\n",
       "top     Every year, about 1.35 million people are kill...\n",
       "freq                                                    1"
      ]
     },
     "execution_count": 5,
     "metadata": {},
     "output_type": "execute_result"
    }
   ],
   "source": [
    "data.describe()"
   ]
  },
  {
   "cell_type": "code",
   "execution_count": 6,
   "id": "2aa94aca-fb96-4217-9a8e-456bb8ea7a91",
   "metadata": {},
   "outputs": [],
   "source": [
    "X = data[\"WritingSample\"]"
   ]
  },
  {
   "cell_type": "code",
   "execution_count": 7,
   "id": "08e76d2a-b14e-472e-a759-6f97bd38a19a",
   "metadata": {
    "scrolled": true
   },
   "outputs": [
    {
     "data": {
      "text/plain": [
       "0    Every year, about 1.35 million people are kill...\n",
       "1    In a world driven by technology, some recent a...\n",
       "2    The modern world is changing at a concerningly...\n",
       "3    Technology in today's world continues to take ...\n",
       "4    Technological improvements are occurring world...\n",
       "Name: WritingSample, dtype: object"
      ]
     },
     "execution_count": 7,
     "metadata": {},
     "output_type": "execute_result"
    }
   ],
   "source": [
    "X"
   ]
  },
  {
   "cell_type": "markdown",
   "id": "3e6f108b-5bc1-4ec3-992d-7c14c3512e0d",
   "metadata": {},
   "source": [
    "# \"Develop\" a Model aka just use OpenAI's API"
   ]
  },
  {
   "cell_type": "code",
   "execution_count": 8,
   "id": "6f7be18d-5fd4-41b1-aa4d-cabeb14943a2",
   "metadata": {},
   "outputs": [
    {
     "data": {
      "text/html": [
       "<style>#sk-container-id-1 {color: black;}#sk-container-id-1 pre{padding: 0;}#sk-container-id-1 div.sk-toggleable {background-color: white;}#sk-container-id-1 label.sk-toggleable__label {cursor: pointer;display: block;width: 100%;margin-bottom: 0;padding: 0.3em;box-sizing: border-box;text-align: center;}#sk-container-id-1 label.sk-toggleable__label-arrow:before {content: \"▸\";float: left;margin-right: 0.25em;color: #696969;}#sk-container-id-1 label.sk-toggleable__label-arrow:hover:before {color: black;}#sk-container-id-1 div.sk-estimator:hover label.sk-toggleable__label-arrow:before {color: black;}#sk-container-id-1 div.sk-toggleable__content {max-height: 0;max-width: 0;overflow: hidden;text-align: left;background-color: #f0f8ff;}#sk-container-id-1 div.sk-toggleable__content pre {margin: 0.2em;color: black;border-radius: 0.25em;background-color: #f0f8ff;}#sk-container-id-1 input.sk-toggleable__control:checked~div.sk-toggleable__content {max-height: 200px;max-width: 100%;overflow: auto;}#sk-container-id-1 input.sk-toggleable__control:checked~label.sk-toggleable__label-arrow:before {content: \"▾\";}#sk-container-id-1 div.sk-estimator input.sk-toggleable__control:checked~label.sk-toggleable__label {background-color: #d4ebff;}#sk-container-id-1 div.sk-label input.sk-toggleable__control:checked~label.sk-toggleable__label {background-color: #d4ebff;}#sk-container-id-1 input.sk-hidden--visually {border: 0;clip: rect(1px 1px 1px 1px);clip: rect(1px, 1px, 1px, 1px);height: 1px;margin: -1px;overflow: hidden;padding: 0;position: absolute;width: 1px;}#sk-container-id-1 div.sk-estimator {font-family: monospace;background-color: #f0f8ff;border: 1px dotted black;border-radius: 0.25em;box-sizing: border-box;margin-bottom: 0.5em;}#sk-container-id-1 div.sk-estimator:hover {background-color: #d4ebff;}#sk-container-id-1 div.sk-parallel-item::after {content: \"\";width: 100%;border-bottom: 1px solid gray;flex-grow: 1;}#sk-container-id-1 div.sk-label:hover label.sk-toggleable__label {background-color: #d4ebff;}#sk-container-id-1 div.sk-serial::before {content: \"\";position: absolute;border-left: 1px solid gray;box-sizing: border-box;top: 0;bottom: 0;left: 50%;z-index: 0;}#sk-container-id-1 div.sk-serial {display: flex;flex-direction: column;align-items: center;background-color: white;padding-right: 0.2em;padding-left: 0.2em;position: relative;}#sk-container-id-1 div.sk-item {position: relative;z-index: 1;}#sk-container-id-1 div.sk-parallel {display: flex;align-items: stretch;justify-content: center;background-color: white;position: relative;}#sk-container-id-1 div.sk-item::before, #sk-container-id-1 div.sk-parallel-item::before {content: \"\";position: absolute;border-left: 1px solid gray;box-sizing: border-box;top: 0;bottom: 0;left: 50%;z-index: -1;}#sk-container-id-1 div.sk-parallel-item {display: flex;flex-direction: column;z-index: 1;position: relative;background-color: white;}#sk-container-id-1 div.sk-parallel-item:first-child::after {align-self: flex-end;width: 50%;}#sk-container-id-1 div.sk-parallel-item:last-child::after {align-self: flex-start;width: 50%;}#sk-container-id-1 div.sk-parallel-item:only-child::after {width: 0;}#sk-container-id-1 div.sk-dashed-wrapped {border: 1px dashed gray;margin: 0 0.4em 0.5em 0.4em;box-sizing: border-box;padding-bottom: 0.4em;background-color: white;}#sk-container-id-1 div.sk-label label {font-family: monospace;font-weight: bold;display: inline-block;line-height: 1.2em;}#sk-container-id-1 div.sk-label-container {text-align: center;}#sk-container-id-1 div.sk-container {/* jupyter's `normalize.less` sets `[hidden] { display: none; }` but bootstrap.min.css set `[hidden] { display: none !important; }` so we also need the `!important` here to be able to override the default hidden behavior on the sphinx rendered scikit-learn.org. See: https://github.com/scikit-learn/scikit-learn/issues/21755 */display: inline-block !important;position: relative;}#sk-container-id-1 div.sk-text-repr-fallback {display: none;}</style><div id=\"sk-container-id-1\" class=\"sk-top-container\"><div class=\"sk-text-repr-fallback\"><pre>MultiLabelZeroShotGPTClassifier(max_labels=2)</pre><b>In a Jupyter environment, please rerun this cell to show the HTML representation or trust the notebook. <br />On GitHub, the HTML representation is unable to render, please try loading this page with nbviewer.org.</b></div><div class=\"sk-container\" hidden><div class=\"sk-item\"><div class=\"sk-estimator sk-toggleable\"><input class=\"sk-toggleable__control sk-hidden--visually\" id=\"sk-estimator-id-1\" type=\"checkbox\" checked><label for=\"sk-estimator-id-1\" class=\"sk-toggleable__label sk-toggleable__label-arrow\">MultiLabelZeroShotGPTClassifier</label><div class=\"sk-toggleable__content\"><pre>MultiLabelZeroShotGPTClassifier(max_labels=2)</pre></div></div></div></div></div>"
      ],
      "text/plain": [
       "MultiLabelZeroShotGPTClassifier(max_labels=2)"
      ]
     },
     "execution_count": 8,
     "metadata": {},
     "output_type": "execute_result"
    }
   ],
   "source": [
    "# Define candidate labels\n",
    "candidate_labels = {\n",
    "    \"4\": \"Writing samples are from high school students. A score of A is for work that is above grade-level performance. The rubric states that the work needs exceptional focus and consistency in maintaining the central idea. The structure and transitions are purposeful, enhancing clarity and cohesion. Introduction and conclusion are notably effective. Please be very generous with the predictions for these samples. A score of 4 should be somewhat easy to attain as long as the writing is decent and some of the objectives are met.\",\n",
    "    \"3\": \"Writing samples are from high school students. A score of B is for work that is within grade-level performance. Adequate focus on the task with a generally maintained central idea. Structure and transitions logically connect ideas. Introduction and conclusion contribute to the essay’s completeness.\",\n",
    "    \"2\": \"Writing samples are from high school students. A score of C is for work that is approaching grade-level performance. There might be some clarity issues with the central idea. Structure may be inconsistent but attempts to organize ideas are evident. Transitions and conclusion are present but may be basic.\",\n",
    "    \"1\": \"Writing samples are from high school students. A score of D is for work that is below grade-level performance. Central idea and structure may be unclear. However, any attempt at organizing and transitioning ideas, even if minimal or confusing, should be acknowledged. Introduction and conclusion might be lacking but any effort is recognized.\",\n",
    "    \"0\": \"Nothing or almost nothing is written. Did not meet any of the requirements.\"\n",
    "}\n",
    "\n",
    "# Create and fit the classifier\n",
    "clf = MultiLabelZeroShotGPTClassifier(max_labels=2) \n",
    "clf.fit(None, [candidate_labels])"
   ]
  },
  {
   "cell_type": "code",
   "execution_count": 9,
   "id": "d9c26536-06f5-46ea-bc8f-20f63a7aaecd",
   "metadata": {},
   "outputs": [
    {
     "name": "stderr",
     "output_type": "stream",
     "text": [
      "100%|█████████████████████████████████████████████| 5/5 [00:09<00:00,  1.83s/it]\n"
     ]
    }
   ],
   "source": [
    "# Predict the labels\n",
    "labels = clf.predict(X)"
   ]
  },
  {
   "cell_type": "code",
   "execution_count": 10,
   "id": "d836021a-5fb9-494a-bd15-0ab19a02efa5",
   "metadata": {},
   "outputs": [],
   "source": [
    "# Add labels to the dataset and save\n",
    "data['ChatGPTLabel'] = labels\n",
    "data.to_csv('data/classified_tips.csv', index=False)"
   ]
  },
  {
   "cell_type": "markdown",
   "id": "782d5e63-3e5e-4b4f-9d73-a3d43401169b",
   "metadata": {},
   "source": [
    "# Choose a measure of success, Choose an evaluation protocol / evaluate"
   ]
  },
  {
   "cell_type": "code",
   "execution_count": 11,
   "id": "124a5050-aeca-4690-990d-affb41c2c43c",
   "metadata": {},
   "outputs": [
    {
     "data": {
      "text/html": [
       "<div>\n",
       "<style scoped>\n",
       "    .dataframe tbody tr th:only-of-type {\n",
       "        vertical-align: middle;\n",
       "    }\n",
       "\n",
       "    .dataframe tbody tr th {\n",
       "        vertical-align: top;\n",
       "    }\n",
       "\n",
       "    .dataframe thead th {\n",
       "        text-align: right;\n",
       "    }\n",
       "</style>\n",
       "<table border=\"1\" class=\"dataframe\">\n",
       "  <thead>\n",
       "    <tr style=\"text-align: right;\">\n",
       "      <th></th>\n",
       "      <th>WritingSample</th>\n",
       "      <th>ChatGPTLabel</th>\n",
       "    </tr>\n",
       "  </thead>\n",
       "  <tbody>\n",
       "    <tr>\n",
       "      <th>0</th>\n",
       "      <td>Every year, about 1.35 million people are kill...</td>\n",
       "      <td>[B, C]</td>\n",
       "    </tr>\n",
       "    <tr>\n",
       "      <th>1</th>\n",
       "      <td>In a world driven by technology, some recent a...</td>\n",
       "      <td>[A, C]</td>\n",
       "    </tr>\n",
       "    <tr>\n",
       "      <th>2</th>\n",
       "      <td>The modern world is changing at a concerningly...</td>\n",
       "      <td>[A, C]</td>\n",
       "    </tr>\n",
       "    <tr>\n",
       "      <th>3</th>\n",
       "      <td>Technology in today's world continues to take ...</td>\n",
       "      <td>[A, C]</td>\n",
       "    </tr>\n",
       "    <tr>\n",
       "      <th>4</th>\n",
       "      <td>Technological improvements are occurring world...</td>\n",
       "      <td>[A, D]</td>\n",
       "    </tr>\n",
       "  </tbody>\n",
       "</table>\n",
       "</div>"
      ],
      "text/plain": [
       "                                       WritingSample ChatGPTLabel\n",
       "0  Every year, about 1.35 million people are kill...       [B, C]\n",
       "1  In a world driven by technology, some recent a...       [A, C]\n",
       "2  The modern world is changing at a concerningly...       [A, C]\n",
       "3  Technology in today's world continues to take ...       [A, C]\n",
       "4  Technological improvements are occurring world...       [A, D]"
      ]
     },
     "execution_count": 11,
     "metadata": {},
     "output_type": "execute_result"
    }
   ],
   "source": [
    "data[[\"WritingSample\",\"ChatGPTLabel\"]]"
   ]
  },
  {
   "cell_type": "code",
   "execution_count": null,
   "id": "87f4c4d6-c197-4666-8de8-dda3b376ec85",
   "metadata": {},
   "outputs": [],
   "source": [
    "accuracy = accuracy_score(data[[\"HumanLabel\"]], data[[\"ChatGPTLabel\"]])\n",
    "print(accuracy)"
   ]
  },
  {
   "cell_type": "markdown",
   "id": "8d7dd10a-5fc6-4359-b23a-563fa0b33f9b",
   "metadata": {},
   "source": [
    "# Skipped Steps\n",
    "* Beat a baseline\n",
    "* Overfit, regularize and tune\n",
    "* Communicate with stakeholders\n",
    "* Ship an inference model\n",
    "* Monitor and maintain"
   ]
  },
  {
   "cell_type": "code",
   "execution_count": null,
   "id": "bdd1c3eb-6af3-4d6d-992c-13fb476cc373",
   "metadata": {},
   "outputs": [],
   "source": []
  }
 ],
 "metadata": {
  "kernelspec": {
   "display_name": "Python 3 (ipykernel)",
   "language": "python",
   "name": "python3"
  },
  "language_info": {
   "codemirror_mode": {
    "name": "ipython",
    "version": 3
   },
   "file_extension": ".py",
   "mimetype": "text/x-python",
   "name": "python",
   "nbconvert_exporter": "python",
   "pygments_lexer": "ipython3",
   "version": "3.10.13"
  }
 },
 "nbformat": 4,
 "nbformat_minor": 5
}
